{
 "cells": [
  {
   "cell_type": "code",
   "execution_count": 17,
   "id": "d048f5cd",
   "metadata": {},
   "outputs": [],
   "source": [
    "import os\n",
    "\n",
    "path = r'C:\\Users\\Lucas\\Documents\\GitHub\\OrangeDetect\\data'\n"
   ]
  },
  {
   "cell_type": "code",
   "execution_count": 11,
   "id": "6740f8ae",
   "metadata": {},
   "outputs": [],
   "source": [
    "i = os.path.join(path, path_1[0])"
   ]
  },
  {
   "cell_type": "code",
   "execution_count": 12,
   "id": "dc6729e6",
   "metadata": {},
   "outputs": [
    {
     "data": {
      "text/plain": [
       "['citrus canker', 'healthy', 'melanose']"
      ]
     },
     "execution_count": 12,
     "metadata": {},
     "output_type": "execute_result"
    }
   ],
   "source": [
    "os.listdir(i)"
   ]
  },
  {
   "cell_type": "code",
   "execution_count": 14,
   "id": "b7087ad9",
   "metadata": {},
   "outputs": [
    {
     "data": {
      "text/plain": [
       "'data'"
      ]
     },
     "execution_count": 14,
     "metadata": {},
     "output_type": "execute_result"
    }
   ],
   "source": [
    "os.path.basename(os.path.dirname(path)).lower()"
   ]
  },
  {
   "cell_type": "code",
   "execution_count": 26,
   "id": "0c85b1ef",
   "metadata": {},
   "outputs": [
    {
     "data": {
      "text/plain": [
       "'C:\\\\Users\\\\Lucas\\\\Documents\\\\GitHub\\\\OrangeDetect\\\\data\\\\FIELD IMAGES'"
      ]
     },
     "execution_count": 26,
     "metadata": {},
     "output_type": "execute_result"
    }
   ],
   "source": [
    "field = os.listdir(path)\n",
    "os.path.join(path, field[1])"
   ]
  },
  {
   "cell_type": "code",
   "execution_count": 29,
   "id": "41ba8777",
   "metadata": {},
   "outputs": [],
   "source": [
    "a = os.listdir(r'C:\\Users\\Lucas\\Documents\\GitHub\\OrangeDetect\\data')"
   ]
  },
  {
   "cell_type": "code",
   "execution_count": 30,
   "id": "1c12a0e0",
   "metadata": {},
   "outputs": [],
   "source": [
    "ab = os.path.join(r'C:\\Users\\Lucas\\Documents\\GitHub\\OrangeDetect\\data', a[1])"
   ]
  },
  {
   "cell_type": "code",
   "execution_count": 31,
   "id": "f8dbe1ab",
   "metadata": {},
   "outputs": [
    {
     "data": {
      "text/plain": [
       "'C:\\\\Users\\\\Lucas\\\\Documents\\\\GitHub\\\\OrangeDetect\\\\data\\\\processed'"
      ]
     },
     "execution_count": 31,
     "metadata": {},
     "output_type": "execute_result"
    }
   ],
   "source": [
    "ab"
   ]
  },
  {
   "cell_type": "code",
   "execution_count": null,
   "id": "22c88793",
   "metadata": {},
   "outputs": [],
   "source": []
  }
 ],
 "metadata": {
  "kernelspec": {
   "display_name": "venv",
   "language": "python",
   "name": "python3"
  },
  "language_info": {
   "codemirror_mode": {
    "name": "ipython",
    "version": 3
   },
   "file_extension": ".py",
   "mimetype": "text/x-python",
   "name": "python",
   "nbconvert_exporter": "python",
   "pygments_lexer": "ipython3",
   "version": "3.12.7"
  }
 },
 "nbformat": 4,
 "nbformat_minor": 5
}
